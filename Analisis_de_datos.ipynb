{
  "nbformat": 4,
  "nbformat_minor": 0,
  "metadata": {
    "colab": {
      "provenance": []
    },
    "kernelspec": {
      "name": "python3",
      "display_name": "Python 3"
    },
    "language_info": {
      "name": "python"
    }
  },
  "cells": [
    {
      "cell_type": "markdown",
      "source": [
        "# Mi primer análisis"
      ],
      "metadata": {
        "id": "JFASN2WoQ91D"
      }
    },
    {
      "cell_type": "markdown",
      "source": [
        "## Sección 0\n",
        "\n"
      ],
      "metadata": {
        "id": "edvGv78FVO-p"
      }
    },
    {
      "cell_type": "code",
      "source": [
        "2*15"
      ],
      "metadata": {
        "colab": {
          "base_uri": "https://localhost:8080/"
        },
        "id": "oXdSCEC6PS-9",
        "outputId": "f5e14117-dc8e-4626-f5e2-7017a2df8942"
      },
      "execution_count": null,
      "outputs": [
        {
          "output_type": "execute_result",
          "data": {
            "text/plain": [
              "30"
            ]
          },
          "metadata": {},
          "execution_count": 2
        }
      ]
    },
    {
      "cell_type": "markdown",
      "source": [
        "## Sección 1"
      ],
      "metadata": {
        "id": "cH7xim9yVhhP"
      }
    },
    {
      "cell_type": "code",
      "execution_count": null,
      "metadata": {
        "colab": {
          "base_uri": "https://localhost:8080/"
        },
        "id": "mOH80FrRO_dC",
        "outputId": "4ebb1a77-b199-42e4-c798-b6b8ca3911b5"
      },
      "outputs": [
        {
          "output_type": "stream",
          "name": "stdout",
          "text": [
            "Hola Mundo!\n"
          ]
        }
      ],
      "source": [
        "print(\"Hola Mundo!\")"
      ]
    }
  ]
}